{
 "cells": [
  {
   "cell_type": "code",
   "execution_count": 152,
   "id": "bdac09fa",
   "metadata": {
    "vscode": {
     "languageId": "polyglot-notebook"
    }
   },
   "outputs": [
    {
     "data": {
      "text/html": [
       "<div><div></div><div></div><div><strong>Installed Packages</strong><ul><li><span>Microsoft.Data.Analysis, 0.23.0-preview.1.25127.4</span></li><li><span>Microsoft.ML.AutoML, 0.21.0-preview.23266.6</span></li><li><span>Plotly.NET.Interactive, 5.0.0</span></li></ul></div></div>"
      ]
     },
     "metadata": {},
     "output_type": "display_data"
    }
   ],
   "source": [
    "#r \"nuget: Microsoft.ML.AutoML, 0.21.0-preview.23266.6\"\n",
    "#r \"nuget: Microsoft.Data.Analysis, 0.23.0-preview.1.25127.4\"\n",
    "#r \"nuget: Plotly.NET.Interactive, 5.0.0\""
   ]
  },
  {
   "cell_type": "code",
   "execution_count": 153,
   "id": "df0fdf60",
   "metadata": {
    "vscode": {
     "languageId": "polyglot-notebook"
    }
   },
   "outputs": [],
   "source": [
    "using Microsoft.ML;\n",
    "using Microsoft.ML.Data;\n",
    "using Microsoft.ML.AutoML;\n",
    "using Plotly.NET;\n",
    "\n",
    "using System.Threading;\n",
    "using System.IO;\n",
    "using System.Linq;\n",
    "using Microsoft.Data.Analysis;\n",
    "using System.Globalization;"
   ]
  },
  {
   "cell_type": "code",
   "execution_count": 154,
   "id": "6896890f",
   "metadata": {
    "vscode": {
     "languageId": "polyglot-notebook"
    }
   },
   "outputs": [],
   "source": [
    "public class SalesPrediction\n",
    "{\n",
    "    [ColumnName(\"Score\")]\n",
    "    public float PredictedSales { get; set; }\n",
    "}\n",
    "public class CarSalesData\n",
    "{\n",
    "    public float Year { get; set; }\n",
    "    public float Month { get; set; }\n",
    "    public float Sales { get; set; }\n",
    "}"
   ]
  },
  {
   "cell_type": "code",
   "execution_count": 155,
   "id": "9be3aba7",
   "metadata": {
    "vscode": {
     "languageId": "polyglot-notebook"
    }
   },
   "outputs": [],
   "source": [
    "//Loads the model\n",
    "var ctx = new MLContext();\n",
    "var modelLoaded = ctx.Model.Load(\"./model.mlnet\", out var modelSchema);"
   ]
  },
  {
   "cell_type": "code",
   "execution_count": 156,
   "id": "d240becb",
   "metadata": {
    "vscode": {
     "languageId": "polyglot-notebook"
    }
   },
   "outputs": [],
   "source": [
    "//Creates the prediction engine\n",
    "var predEngine = ctx.Model.CreatePredictionEngine<CarSalesData, SalesPrediction>(modelLoaded);"
   ]
  },
  {
   "cell_type": "code",
   "execution_count": 157,
   "id": "962993b6",
   "metadata": {
    "vscode": {
     "languageId": "polyglot-notebook"
    }
   },
   "outputs": [
    {
     "ename": "Error",
     "evalue": "(4,5): error CS1950: The best overloaded Add method 'List<CarSalesData>.Add(CarSalesData)' for the collection initializer has some invalid arguments\r\n(4,5): error CS1503: Argument 1: cannot convert from 'CarSalesData [ℛ*8f7bc348-9065-40f2-a9c2-f5f94dc098b5#1-129, Version=0.0.0.0, Culture=neutral, PublicKeyToken=null]' to 'CarSalesData [ℛ*8f7bc348-9065-40f2-a9c2-f5f94dc098b5#1-137, Version=0.0.0.0, Culture=neutral, PublicKeyToken=null]'",
     "output_type": "error",
     "traceback": [
      "(4,5): error CS1950: The best overloaded Add method 'List<CarSalesData>.Add(CarSalesData)' for the collection initializer has some invalid arguments\r\n",
      "(4,5): error CS1503: Argument 1: cannot convert from 'CarSalesData [ℛ*8f7bc348-9065-40f2-a9c2-f5f94dc098b5#1-129, Version=0.0.0.0, Culture=neutral, PublicKeyToken=null]' to 'CarSalesData [ℛ*8f7bc348-9065-40f2-a9c2-f5f94dc098b5#1-137, Version=0.0.0.0, Culture=neutral, PublicKeyToken=null]'"
     ]
    }
   ],
   "source": [
    "//Use prediction engine to predict the sales for the next 12 months\n",
    "var lastPrev = carSalesData.OrderBy(_ => _.Month).OrderBy(_ => _.Year).LastOrDefault();\n",
    "var prevList = new List<CarSalesData>(){\n",
    "    lastPrev\n",
    "};\n",
    "\n",
    "for (int i = 1; i < 12; i++)\n",
    "{\n",
    "    var month = lastPrev.Month + i;\n",
    "    var year = lastPrev.Year;\n",
    "    if(month > 12)\n",
    "    {\n",
    "        month = month - 12;\n",
    "        year++;\n",
    "    }\n",
    "\n",
    "    var sample = new CarSalesData()\n",
    "    {\n",
    "        Year = year,\n",
    "        Month = month,\n",
    "    };\n",
    "    var prediction = predEngine.Predict(sample);\n",
    "    sample.Sales = prediction.PredictedSales;\n",
    "    prevList.Add(sample);\n",
    "}\n",
    "\n",
    "\n",
    "// var sample = new CarSalesData()\n",
    "// {\n",
    "//     Year = 2027,\n",
    "//     Month = 01,\n",
    "// };\n",
    "// var prediction = predEngine.Predict(sample);\n",
    "// sample.Sales = prediction.PredictedSales;\n",
    "// Console.WriteLine($\"Previsão: {prediction.PredictedSales} unidades\");"
   ]
  },
  {
   "cell_type": "code",
   "execution_count": 158,
   "id": "fe6b4370",
   "metadata": {
    "vscode": {
     "languageId": "polyglot-notebook"
    }
   },
   "outputs": [
    {
     "name": "stdout",
     "output_type": "stream",
     "text": [
      "Dados carregados: 529 registros.\r\n"
     ]
    }
   ],
   "source": [
    "// Define data path\n",
    "var lines = File.ReadAllLines(@\"./bcdata.sgs.1378.csv\");\n",
    "IEnumerable<CarSalesData> carSalesData = new List<CarSalesData>();\n",
    "for (int i = 1; i < lines.Length; i++) // pula o cabeçalho\n",
    "{\n",
    "    var carSale = new CarSalesData();\n",
    "    var parts = lines[i].Split(';');\n",
    "    parts[0] = parts[0].Replace(\"\\\"\",\"\"); // remove aspas\n",
    "    var date= DateTime.ParseExact(parts[0], \"dd/MM/yyyy\", CultureInfo.InvariantCulture);\n",
    "    carSale.Year = date.Year;\n",
    "    carSale.Month = date.Month;\n",
    "    carSale.Sales = float.Parse(parts[1].Replace(\",\", \".\").Replace(\"\\\"\",\"\"));\n",
    "    carSalesData = carSalesData.Append(carSale);\n",
    "}\n",
    "Console.WriteLine($\"Dados carregados: {carSalesData.Count()} registros.\");"
   ]
  },
  {
   "cell_type": "code",
   "execution_count": 159,
   "id": "3ccba343",
   "metadata": {
    "vscode": {
     "languageId": "polyglot-notebook"
    }
   },
   "outputs": [],
   "source": [
    "//Show and save data\n",
    "var scatter = Chart2D.Chart.Scatter<DateTime, float, string>(\n",
    "    x: carSalesData.Select(x => new DateTime((int)x.Year, (int)x.Month, 1)),\n",
    "    y: carSalesData.Select(x => x.Sales),\n",
    "    mode: StyleParam.Mode.Lines,\n",
    "    Name: \"Sales\"\n",
    ");\n",
    "\n",
    "\n",
    "var scatterPrevision = Chart2D.Chart.Line<DateTime, float, string>(\n",
    "    x: prevList.Select(x => new DateTime((int)x.Year, (int)x.Month, 1)),\n",
    "    y: prevList.Select(x => x.Sales),\n",
    "    LineColor: Color.fromString(\"red\"),\n",
    "    Name: \"Prediction\"\n",
    ");\n",
    "var combined = Chart.Combine(new []{scatter, scatterPrevision});\n",
    "\n",
    "combined.Show();\n",
    "combined.SaveHtml(\"graph.html\");"
   ]
  }
 ],
 "metadata": {
  "kernelspec": {
   "display_name": ".NET (C#)",
   "language": "C#",
   "name": ".net-csharp"
  },
  "language_info": {
   "name": "python"
  },
  "polyglot_notebook": {
   "kernelInfo": {
    "defaultKernelName": "csharp",
    "items": [
     {
      "aliases": [],
      "name": "csharp"
     }
    ]
   }
  }
 },
 "nbformat": 4,
 "nbformat_minor": 5
}
