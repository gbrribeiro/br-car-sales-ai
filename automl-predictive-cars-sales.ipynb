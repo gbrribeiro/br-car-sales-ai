{
 "cells": [
  {
   "cell_type": "code",
   "execution_count": null,
   "metadata": {
    "polyglot_notebook": {
     "kernelName": "csharp"
    },
    "vscode": {
     "languageId": "polyglot-notebook"
    }
   },
   "outputs": [
    {
     "data": {
      "text/html": [
       "<div><div></div><div></div><div><strong>Installed Packages</strong><ul><li><span>Microsoft.Data.Analysis, 0.23.0-preview.1.25127.4</span></li><li><span>Microsoft.ML.AutoML, 0.21.0-preview.23266.6</span></li></ul></div></div>"
      ]
     },
     "metadata": {},
     "output_type": "display_data"
    }
   ],
   "source": [
    "#r \"nuget: Microsoft.ML.AutoML, 0.21.0-preview.23266.6\"\n",
    "\n",
    "#r \"nuget: Microsoft.Data.Analysis, 0.23.0-preview.1.25127.4\""
   ]
  },
  {
   "cell_type": "code",
   "execution_count": 94,
   "metadata": {
    "polyglot_notebook": {
     "kernelName": "csharp"
    },
    "vscode": {
     "languageId": "polyglot-notebook"
    }
   },
   "outputs": [],
   "source": [
    "using System.Threading;\n",
    "using System.IO;\n",
    "using System.Linq;\n",
    "using Microsoft.ML;\n",
    "using Microsoft.ML.Data;\n",
    "using Microsoft.ML.AutoML;\n",
    "\n",
    "using Microsoft.Data.Analysis;\n",
    "using System.Globalization;"
   ]
  },
  {
   "cell_type": "code",
   "execution_count": 95,
   "metadata": {
    "polyglot_notebook": {
     "kernelName": "csharp"
    },
    "vscode": {
     "languageId": "polyglot-notebook"
    }
   },
   "outputs": [],
   "source": [
    "public class CarSalesData\n",
    "{\n",
    "    public float Year { get; set; }\n",
    "    public float Month { get; set; }\n",
    "    public float Sales { get; set; }\n",
    "}"
   ]
  },
  {
   "cell_type": "code",
   "execution_count": 96,
   "metadata": {
    "polyglot_notebook": {
     "kernelName": "csharp"
    },
    "vscode": {
     "languageId": "polyglot-notebook"
    }
   },
   "outputs": [],
   "source": [
    "// Initialize MLContext\n",
    "MLContext ctx = new MLContext();"
   ]
  },
  {
   "cell_type": "code",
   "execution_count": 97,
   "metadata": {
    "polyglot_notebook": {
     "kernelName": "csharp"
    },
    "vscode": {
     "languageId": "polyglot-notebook"
    }
   },
   "outputs": [],
   "source": [
    "var dataPath = Path.GetFullPath(@\"./formated.csv\");"
   ]
  },
  {
   "cell_type": "code",
   "execution_count": 98,
   "metadata": {
    "polyglot_notebook": {
     "kernelName": "csharp"
    },
    "vscode": {
     "languageId": "polyglot-notebook"
    }
   },
   "outputs": [
    {
     "name": "stdout",
     "output_type": "stream",
     "text": [
      "Dados carregados: 529 registros.\r\n"
     ]
    }
   ],
   "source": [
    "// Define data path\n",
    "var lines = File.ReadAllLines(@\"./bcdata.sgs.1378.csv\");\n",
    "IEnumerable<CarSalesData> carSalesData = new List<CarSalesData>();\n",
    "for (int i = 1; i < lines.Length; i++) // pula o cabeçalho\n",
    "{\n",
    "    var carSale = new CarSalesData();\n",
    "    var parts = lines[i].Split(';');\n",
    "    parts[0] = parts[0].Replace(\"\\\"\",\"\"); // remove aspas\n",
    "    var date= DateTime.ParseExact(parts[0], \"dd/MM/yyyy\", CultureInfo.InvariantCulture);\n",
    "    carSale.Year = date.Year;\n",
    "    carSale.Month = date.Month;\n",
    "    carSale.Sales = float.Parse(parts[1].Replace(\",\", \".\").Replace(\"\\\"\",\"\"));\n",
    "    carSalesData = carSalesData.Append(carSale);\n",
    "}\n",
    "Console.WriteLine($\"Dados carregados: {carSalesData.Count()} registros.\");"
   ]
  },
  {
   "cell_type": "code",
   "execution_count": null,
   "metadata": {
    "polyglot_notebook": {
     "kernelName": "csharp"
    },
    "vscode": {
     "languageId": "polyglot-notebook"
    }
   },
   "outputs": [],
   "source": [
    "// Load data as IDataView\n",
    "var data = ctx.Data.LoadFromEnumerable(carSalesData);"
   ]
  },
  {
   "cell_type": "code",
   "execution_count": 100,
   "metadata": {
    "polyglot_notebook": {
     "kernelName": "csharp"
    },
    "vscode": {
     "languageId": "polyglot-notebook"
    }
   },
   "outputs": [],
   "source": [
    "var pipeline = ctx.Transforms.Concatenate(\"Features\", \"Year\", \"Month\")\n",
    "    .Append(ctx.Transforms.NormalizeMinMax(\"Features\"))\n",
    "    .AppendCacheCheckpoint(ctx);"
   ]
  },
  {
   "cell_type": "code",
   "execution_count": null,
   "metadata": {
    "polyglot_notebook": {
     "kernelName": "csharp"
    },
    "vscode": {
     "languageId": "polyglot-notebook"
    }
   },
   "outputs": [
    {
     "name": "stdout",
     "output_type": "stream",
     "text": [
      "Total de linhas: \r\n"
     ]
    }
   ],
   "source": [
    "// Transforms data\n",
    "var processedData = pipeline.Fit(data).Transform(data);\n",
    "Console.WriteLine($\"Total de linhas: {processedData.GetRowCount()}\");\n",
    "var trainValidationData = ctx.Data.TrainTestSplit(processedData, testFraction: 0.2);"
   ]
  },
  {
   "cell_type": "code",
   "execution_count": null,
   "metadata": {
    "polyglot_notebook": {
     "kernelName": "csharp"
    },
    "vscode": {
     "languageId": "polyglot-notebook"
    }
   },
   "outputs": [],
   "source": [
    "// Configurates the experiment\n",
    "var experimentSettings = new RegressionExperimentSettings\n",
    "{\n",
    "    MaxExperimentTimeInSeconds = 200,\n",
    "    OptimizingMetric = RegressionMetric.RSquared\n",
    "};\n",
    "var experiment = ctx.Auto().CreateRegressionExperiment(experimentSettings);\n",
    "var result = experiment.Execute(trainValidationData.TrainSet, labelColumnName: \"Sales\");"
   ]
  },
  {
   "cell_type": "code",
   "execution_count": null,
   "metadata": {
    "polyglot_notebook": {
     "kernelName": "csharp"
    },
    "vscode": {
     "languageId": "polyglot-notebook"
    }
   },
   "outputs": [],
   "source": [
    "// Avaliation\n",
    "var testMetrics = result.BestRun.Model.Transform(trainValidationData.TestSet);\n",
    "var metrics = ctx.Regression.Evaluate(testMetrics, labelColumnName: \"Sales\");"
   ]
  },
  {
   "cell_type": "code",
   "execution_count": null,
   "metadata": {
    "polyglot_notebook": {
     "kernelName": "csharp"
    },
    "vscode": {
     "languageId": "polyglot-notebook"
    }
   },
   "outputs": [
    {
     "name": "stdout",
     "output_type": "stream",
     "text": [
      "Melhor modelo: ReplaceMissingValues=>Concatenate=>LightGbmRegression\n",
      "R²: 0.908\n",
      "MAE: 17980.202\n",
      "RMSE: 23414.955\n"
     ]
    }
   ],
   "source": [
    "Console.WriteLine($\"Best Model: {result.BestRun.TrainerName}\");\n",
    "Console.WriteLine($\"R²: {metrics.RSquared:0.###}\");\n",
    "Console.WriteLine($\"MAE: {metrics.MeanAbsoluteError:#.###}\");\n",
    "Console.WriteLine($\"RMSE: {metrics.RootMeanSquaredError:#.###}\");   "
   ]
  },
  {
   "cell_type": "code",
   "execution_count": 106,
   "metadata": {
    "polyglot_notebook": {
     "kernelName": "csharp"
    },
    "vscode": {
     "languageId": "polyglot-notebook"
    }
   },
   "outputs": [],
   "source": [
    "ctx.Model.Save(model, data.Schema, \"model.mlnet\");"
   ]
  }
 ],
 "metadata": {
  "kernelspec": {
   "display_name": ".NET (C#)",
   "language": "C#",
   "name": ".net-csharp"
  },
  "language_info": {
   "name": "python"
  },
  "polyglot_notebook": {
   "kernelInfo": {
    "defaultKernelName": "csharp",
    "items": [
     {
      "aliases": [],
      "name": "csharp"
     }
    ]
   }
  }
 },
 "nbformat": 4,
 "nbformat_minor": 2
}
